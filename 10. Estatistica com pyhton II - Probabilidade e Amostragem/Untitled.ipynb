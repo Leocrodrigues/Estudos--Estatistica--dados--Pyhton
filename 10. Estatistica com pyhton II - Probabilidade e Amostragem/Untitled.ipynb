{
 "cells": [
  {
   "cell_type": "code",
   "execution_count": 92,
   "id": "c66ee1a6",
   "metadata": {},
   "outputs": [],
   "source": [
    "import pandas as pd\n",
    "import numpy as np\n",
    "import scipy.stats \n",
    "from scipy.stats import norm\n"
   ]
  },
  {
   "cell_type": "code",
   "execution_count": 2,
   "id": "db33229d",
   "metadata": {},
   "outputs": [
    {
     "data": {
      "text/plain": [
       "28"
      ]
     },
     "execution_count": 2,
     "metadata": {},
     "output_type": "execute_result"
    }
   ],
   "source": [
    "media_amostra= 28\n",
    "media_amostra"
   ]
  },
  {
   "cell_type": "code",
   "execution_count": 22,
   "id": "e6125dec",
   "metadata": {},
   "outputs": [
    {
     "data": {
      "text/plain": [
       "1.6448536269514722"
      ]
     },
     "execution_count": 22,
     "metadata": {},
     "output_type": "execute_result"
    }
   ],
   "source": [
    "z = norm.ppf(0.95)\n",
    "z"
   ]
  },
  {
   "cell_type": "code",
   "execution_count": 23,
   "id": "3b09fb75",
   "metadata": {},
   "outputs": [],
   "source": [
    "desvio_padrao = 11"
   ]
  },
  {
   "cell_type": "code",
   "execution_count": 27,
   "id": "ec50c83b",
   "metadata": {},
   "outputs": [
    {
     "data": {
      "text/plain": [
       "44.45222154178574"
      ]
     },
     "execution_count": 27,
     "metadata": {},
     "output_type": "execute_result"
    }
   ],
   "source": [
    "raiz_de_n = np.sqrt(n)\n",
    "raiz_de_n"
   ]
  },
  {
   "cell_type": "code",
   "execution_count": 25,
   "id": "aeab792d",
   "metadata": {},
   "outputs": [],
   "source": [
    "n = 1976"
   ]
  },
  {
   "cell_type": "code",
   "execution_count": 28,
   "id": "7905d8bd",
   "metadata": {},
   "outputs": [
    {
     "data": {
      "text/plain": [
       "44.45222154178574"
      ]
     },
     "execution_count": 28,
     "metadata": {},
     "output_type": "execute_result"
    }
   ],
   "source": [
    "raiz_de_n = np.sqrt(n)\n",
    "raiz_de_n"
   ]
  },
  {
   "cell_type": "code",
   "execution_count": 29,
   "id": "5f5c33bc",
   "metadata": {},
   "outputs": [
    {
     "data": {
      "text/plain": [
       "0.24745669886621613"
      ]
     },
     "execution_count": 29,
     "metadata": {},
     "output_type": "execute_result"
    }
   ],
   "source": [
    "sigma = desvio_padrao / raiz_de_n \n",
    "sigma"
   ]
  },
  {
   "cell_type": "code",
   "execution_count": 30,
   "id": "42270be8",
   "metadata": {},
   "outputs": [
    {
     "data": {
      "text/plain": [
       "0.40703004864353387"
      ]
     },
     "execution_count": 30,
     "metadata": {},
     "output_type": "execute_result"
    }
   ],
   "source": [
    "e = z * sigma\n",
    "e"
   ]
  },
  {
   "cell_type": "code",
   "execution_count": 31,
   "id": "6b692ca4",
   "metadata": {},
   "outputs": [
    {
     "data": {
      "text/plain": [
       "(27.592969951356466, 28.407030048643534)"
      ]
     },
     "execution_count": 31,
     "metadata": {},
     "output_type": "execute_result"
    }
   ],
   "source": [
    "intervalo = (\n",
    "  media_amostra - e,\n",
    "  media_amostra + e  \n",
    ")\n",
    "\n",
    "intervalo"
   ]
  },
  {
   "cell_type": "code",
   "execution_count": 77,
   "id": "624f14a0",
   "metadata": {},
   "outputs": [
    {
     "data": {
      "text/plain": [
       "0.1"
      ]
     },
     "execution_count": 77,
     "metadata": {},
     "output_type": "execute_result"
    }
   ],
   "source": [
    "significancia = 0.10\n",
    "significancia"
   ]
  },
  {
   "cell_type": "code",
   "execution_count": 78,
   "id": "eb9d64d1",
   "metadata": {},
   "outputs": [
    {
     "data": {
      "text/plain": [
       "0.9"
      ]
     },
     "execution_count": 78,
     "metadata": {},
     "output_type": "execute_result"
    }
   ],
   "source": [
    "confianca = 1 - significancia\n",
    "confianca"
   ]
  },
  {
   "cell_type": "code",
   "execution_count": 79,
   "id": "a8223c2c",
   "metadata": {},
   "outputs": [
    {
     "data": {
      "text/plain": [
       "0.45"
      ]
     },
     "execution_count": 79,
     "metadata": {},
     "output_type": "execute_result"
    }
   ],
   "source": [
    "0.9 / 2"
   ]
  },
  {
   "cell_type": "code",
   "execution_count": 83,
   "id": "d62a167e",
   "metadata": {},
   "outputs": [
    {
     "data": {
      "text/plain": [
       "0.55"
      ]
     },
     "execution_count": 83,
     "metadata": {},
     "output_type": "execute_result"
    }
   ],
   "source": [
    "0.10 + (0.90 / 2)"
   ]
  },
  {
   "cell_type": "code",
   "execution_count": 17,
   "id": "155449b5",
   "metadata": {},
   "outputs": [
    {
     "data": {
      "text/plain": [
       "0.13"
      ]
     },
     "execution_count": 17,
     "metadata": {},
     "output_type": "execute_result"
    }
   ],
   "source": [
    "0.10 + 0.03"
   ]
  },
  {
   "cell_type": "code",
   "execution_count": 69,
   "id": "e194d305",
   "metadata": {},
   "outputs": [
    {
     "data": {
      "text/plain": [
       "0.12995756514932058"
      ]
     },
     "execution_count": 69,
     "metadata": {},
     "output_type": "execute_result"
    }
   ],
   "source": [
    "z = norm.ppf(0.5517)\n",
    "z"
   ]
  },
  {
   "cell_type": "code",
   "execution_count": 89,
   "id": "2f7ac69f",
   "metadata": {},
   "outputs": [
    {
     "data": {
      "text/plain": [
       "4.54"
      ]
     },
     "execution_count": 89,
     "metadata": {},
     "output_type": "execute_result"
    }
   ],
   "source": [
    "e = 4.54\n",
    "e"
   ]
  },
  {
   "cell_type": "code",
   "execution_count": 41,
   "id": "1a453bc4",
   "metadata": {},
   "outputs": [],
   "source": [
    "desvio_padrao = 15"
   ]
  },
  {
   "cell_type": "code",
   "execution_count": 90,
   "id": "09c9a6af",
   "metadata": {},
   "outputs": [
    {
     "data": {
      "text/plain": [
       "0"
      ]
     },
     "execution_count": 90,
     "metadata": {},
     "output_type": "execute_result"
    }
   ],
   "source": [
    "n =( z * (sigma / e)) ** 2\n",
    "int(n.round())"
   ]
  },
  {
   "cell_type": "code",
   "execution_count": 42,
   "id": "5072662f",
   "metadata": {},
   "outputs": [],
   "source": [
    "n = 45.50"
   ]
  },
  {
   "cell_type": "code",
   "execution_count": 43,
   "id": "b6d24e96",
   "metadata": {},
   "outputs": [],
   "source": [
    "raiz_de_n = np.sqrt(n)"
   ]
  },
  {
   "cell_type": "code",
   "execution_count": 47,
   "id": "65df64b9",
   "metadata": {},
   "outputs": [
    {
     "data": {
      "text/plain": [
       "15"
      ]
     },
     "execution_count": 47,
     "metadata": {},
     "output_type": "execute_result"
    }
   ],
   "source": [
    "sigma = 15\n",
    "sigma"
   ]
  },
  {
   "cell_type": "code",
   "execution_count": 91,
   "id": "cc60deff",
   "metadata": {
    "scrolled": true
   },
   "outputs": [
    {
     "data": {
      "text/plain": [
       "0.18436307547189337"
      ]
     },
     "execution_count": 91,
     "metadata": {},
     "output_type": "execute_result"
    }
   ],
   "source": [
    "n =( z * (sigma / e)) ** 2\n",
    "n"
   ]
  },
  {
   "cell_type": "code",
   "execution_count": 88,
   "id": "92ba7c2b",
   "metadata": {},
   "outputs": [
    {
     "data": {
      "text/plain": [
       "4.54"
      ]
     },
     "execution_count": 88,
     "metadata": {},
     "output_type": "execute_result"
    }
   ],
   "source": [
    "45.40 / 10"
   ]
  },
  {
   "cell_type": "code",
   "execution_count": 111,
   "id": "e7ad0d6f",
   "metadata": {},
   "outputs": [
    {
     "data": {
      "text/plain": [
       "2000"
      ]
     },
     "execution_count": 111,
     "metadata": {},
     "output_type": "execute_result"
    }
   ],
   "source": [
    "n =  2000\n",
    "n"
   ]
  },
  {
   "cell_type": "code",
   "execution_count": 118,
   "id": "2e9364ba",
   "metadata": {},
   "outputs": [
    {
     "data": {
      "text/plain": [
       "480"
      ]
     },
     "execution_count": 118,
     "metadata": {},
     "output_type": "execute_result"
    }
   ],
   "source": [
    "sigma = 480\n",
    "sigma"
   ]
  },
  {
   "cell_type": "code",
   "execution_count": 122,
   "id": "6b1388b4",
   "metadata": {},
   "outputs": [
    {
     "data": {
      "text/plain": [
       "0.03"
      ]
     },
     "execution_count": 122,
     "metadata": {},
     "output_type": "execute_result"
    }
   ],
   "source": [
    "e = 0.03\n",
    "e"
   ]
  },
  {
   "cell_type": "code",
   "execution_count": null,
   "id": "340f868a",
   "metadata": {},
   "outputs": [],
   "source": [
    "erro_percentual = 0.03\n",
    "e = media * erro_percentual\n"
   ]
  },
  {
   "cell_type": "code",
   "execution_count": 120,
   "id": "5c4a8708",
   "metadata": {},
   "outputs": [
    {
     "data": {
      "text/plain": [
       "1.959963984540054"
      ]
     },
     "execution_count": 120,
     "metadata": {},
     "output_type": "execute_result"
    }
   ],
   "source": [
    "z = norm.ppf((0.5 + (0.95 / 2)))\n",
    "z"
   ]
  },
  {
   "cell_type": "code",
   "execution_count": 123,
   "id": "33543c76",
   "metadata": {},
   "outputs": [
    {
     "data": {
      "text/plain": [
       "9736767"
      ]
     },
     "execution_count": 123,
     "metadata": {},
     "output_type": "execute_result"
    }
   ],
   "source": [
    "n = ((z**2) * (s**2) * (n)) /  (((z**2) * (s**2)) + ((e**2) * (n-1)))\n",
    "int(n.round())"
   ]
  },
  {
   "cell_type": "code",
   "execution_count": 124,
   "id": "666008f0",
   "metadata": {},
   "outputs": [
    {
     "data": {
      "text/plain": [
       "983413458"
      ]
     },
     "execution_count": 124,
     "metadata": {},
     "output_type": "execute_result"
    }
   ],
   "source": [
    "n =( z * (sigma / e)) ** 2\n",
    "int(n.round())"
   ]
  },
  {
   "cell_type": "code",
   "execution_count": 125,
   "id": "b2cdf8e3",
   "metadata": {},
   "outputs": [
    {
     "data": {
      "text/plain": [
       "10"
      ]
     },
     "execution_count": 125,
     "metadata": {},
     "output_type": "execute_result"
    }
   ],
   "source": [
    "N = 2000\n",
    "z = norm.ppf(0.5 + (0.95 / 2))\n",
    "s = 480\n",
    "e = 0.3 * 1000   # Convertendo kg para g\n",
    "\n",
    "n = ((z**2) * (s**2) * (N)) / (((z**2) * (s**2)) + ((e**2) * (N - 1)))\n",
    "int(n.round())"
   ]
  },
  {
   "cell_type": "code",
   "execution_count": null,
   "id": "656818f0",
   "metadata": {},
   "outputs": [],
   "source": []
  }
 ],
 "metadata": {
  "kernelspec": {
   "display_name": "Python 3",
   "language": "python",
   "name": "python3"
  },
  "language_info": {
   "codemirror_mode": {
    "name": "ipython",
    "version": 3
   },
   "file_extension": ".py",
   "mimetype": "text/x-python",
   "name": "python",
   "nbconvert_exporter": "python",
   "pygments_lexer": "ipython3",
   "version": "3.8.8"
  }
 },
 "nbformat": 4,
 "nbformat_minor": 5
}
